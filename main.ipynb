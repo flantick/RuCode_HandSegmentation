{
 "cells": [
  {
   "cell_type": "code",
   "execution_count": null,
   "metadata": {
    "colab": {
     "base_uri": "https://localhost:8080/"
    },
    "id": "iGJHCMS1PRlO",
    "outputId": "610d334e-6b8e-446f-ee58-d993cb89173e"
   },
   "outputs": [],
   "source": [
    "from google.colab import drive\n",
    "drive.mount('/content/drive')"
   ]
  },
  {
   "cell_type": "markdown",
   "metadata": {
    "id": "yfti3munl7f7"
   },
   "source": [
    "**Разархивируем датасет для обучения**\n",
    "\n",
    "\n",
    "\n",
    "\n"
   ]
  },
  {
   "cell_type": "code",
   "execution_count": null,
   "metadata": {
    "tags": []
   },
   "outputs": [],
   "source": [
    "!unzip drive/MyDrive/collab/train.zip -d dataset/"
   ]
  },
  {
   "cell_type": "code",
   "execution_count": null,
   "metadata": {
    "colab": {
     "base_uri": "https://localhost:8080/"
    },
    "id": "HaIFszTvYH-J",
    "outputId": "7f8aaaa5-71cc-4a8d-cb9b-0da8d5fdc0c4",
    "tags": []
   },
   "outputs": [],
   "source": [
    "!pip install segmentation-models"
   ]
  },
  {
   "cell_type": "markdown",
   "metadata": {
    "id": "9su139LgmWrb"
   },
   "source": [
    "**Импопрт библиотек**"
   ]
  },
  {
   "cell_type": "code",
   "execution_count": null,
   "metadata": {
    "colab": {
     "base_uri": "https://localhost:8080/",
     "height": 52
    },
    "id": "g8UNgLKvYMRv",
    "outputId": "c3225ed3-e05c-4081-af19-e2378eef3cf3"
   },
   "outputs": [],
   "source": [
    "import segmentation_models as sm\n",
    "sm.set_framework('tf.keras')\n",
    "sm.framework()"
   ]
  },
  {
   "cell_type": "code",
   "execution_count": null,
   "metadata": {
    "id": "J4mfhjFWYupP"
   },
   "outputs": [],
   "source": [
    "import numpy as np\n",
    "import matplotlib.pyplot as plt\n",
    "from tensorflow import keras\n",
    "import pandas as pd\n",
    "import cv2\n",
    "from scipy import ndimage\n",
    "from tensorflow.python.keras.preprocessing.image import ImageDataGenerator, array_to_img, img_to_array, load_img\n",
    "from tensorflow.keras.callbacks import ModelCheckpoint"
   ]
  },
  {
   "cell_type": "markdown",
   "metadata": {
    "id": "X8R2lOG9mwuj"
   },
   "source": [
    "**Функция декодирования маски и генератор**"
   ]
  },
  {
   "cell_type": "code",
   "execution_count": null,
   "metadata": {
    "id": "qpgsEFrBktQa"
   },
   "outputs": [],
   "source": [
    "def rle_decode(mask_rle, shape=(640, 480, 1)):\n",
    "    '''\n",
    "    mask_rle: run-length as string formated (start length)\n",
    "    shape: (height,width) of array to return\n",
    "    Returns numpy array, 1 - mask, 0 - background\n",
    "    '''\n",
    "    img = np.zeros(shape[0] * shape[1], dtype=np.uint8)\n",
    "\n",
    "    s = mask_rle.split()\n",
    "    starts, lengths = [np.asarray(x, dtype=int) for x in (s[0:][::2], s[1:][::2])]\n",
    "    starts -= 1\n",
    "    ends = starts + lengths\n",
    "    for lo, hi in zip(starts, ends):\n",
    "        img[lo:hi] = 1\n",
    "\n",
    "    img = img.reshape(shape)\n",
    "\n",
    "    return img\n",
    "\n",
    "\n",
    "def keras_generator(gen_df, batch_size):\n",
    "    while True:\n",
    "        x_batch = []\n",
    "        y_batch = []\n",
    "\n",
    "        for i in range(batch_size):\n",
    "            img_name, mask_rle = gen_df.sample(1).values[0]\n",
    "            img = load_img(f'{img_name}', color_mode='rgba')#, target_size=(480, 640))\n",
    "            img = img.convert('RGB')\n",
    "            img = img_to_array(img)\n",
    "            mask = rle_decode(mask_rle)\n",
    "            mask = ndimage.rotate(mask, -90)\n",
    "            mask = cv2.flip(mask, 1)\n",
    "\n",
    "            x_batch += [img]\n",
    "            y_batch += [mask]\n",
    "\n",
    "        x_batch = np.array(x_batch) / 255.\n",
    "        y_batch = np.array(y_batch)\n",
    "\n",
    "        yield x_batch, np.expand_dims(y_batch, -1)\n"
   ]
  },
  {
   "cell_type": "markdown",
   "metadata": {
    "id": "5s2spJvinHGL"
   },
   "source": [
    "**Импорт датасета и разделение валидацию**"
   ]
  },
  {
   "cell_type": "code",
   "execution_count": null,
   "metadata": {
    "id": "l-0uETxzk448"
   },
   "outputs": [],
   "source": [
    "data = pd.read_csv('dataset/train/segmentation.csv')\n",
    "train_data = data[:17621]\n",
    "val_data = data[17621:]\n"
   ]
  },
  {
   "cell_type": "markdown",
   "metadata": {
    "id": "mBERebHynepB"
   },
   "source": [
    "**Создание модели и колбэка**"
   ]
  },
  {
   "cell_type": "code",
   "execution_count": null,
   "metadata": {
    "colab": {
     "base_uri": "https://localhost:8080/"
    },
    "id": "Tvgh2ZwPlRmM",
    "outputId": "e7ef78b2-93ad-4628-c8d0-ed1933fda4c4",
    "tags": []
   },
   "outputs": [],
   "source": [
    "model = sm.Unet('vgg19', encoder_weights='imagenet', input_shape=(480, 640 ,3))\n",
    "model.summary()\n",
    "\n",
    "\n",
    "best_w = keras.callbacks.ModelCheckpoint(\"drive/MyDrive/collab/segmetn1e_{epoch}\", monitor='val_accuracy', verbose=1, \n",
    "                             save_best_only=True)\n",
    "\n",
    "\n",
    "model.compile(loss='binary_crossentropy',\n",
    "              optimizer=keras.optimizers.Adam(learning_rate=1e-4),\n",
    "              #optimizer = 'adam',\n",
    "              metrics=['accuracy'])\n"
   ]
  },
  {
   "cell_type": "markdown",
   "metadata": {
    "id": "YbvuV54Fnx1w"
   },
   "source": [
    "**Обучение модели**\n",
    "\n",
    "---\n",
    "\n",
    "\n",
    "мне понадобилось более 100 эпох"
   ]
  },
  {
   "cell_type": "code",
   "execution_count": null,
   "metadata": {
    "colab": {
     "base_uri": "https://localhost:8080/",
     "height": 391
    },
    "id": "CChg9sUflYTy",
    "outputId": "28fe418f-68a3-4fa6-f766-0c6f900ed477",
    "tags": []
   },
   "outputs": [],
   "source": [
    "model.fit(\n",
    "    keras_generator(train_data, batch_size=8),\n",
    "    steps_per_epoch=100,\n",
    "    callbacks=best_w,\n",
    "    validation_data=keras_generator(val_data, batch_size=8),\n",
    "    validation_steps=50,\n",
    "    epochs=100\n",
    ")\n"
   ]
  },
  {
   "cell_type": "markdown",
   "metadata": {
    "id": "lLQRIu7voN_w"
   },
   "source": [
    "**Загрузка модели и обучение загруженной модели**\n",
    "\n",
    "---\n",
    "если время в калабе кончилось, а результат вам не нравится\n"
   ]
  },
  {
   "cell_type": "code",
   "execution_count": null,
   "metadata": {
    "colab": {
     "base_uri": "https://localhost:8080/",
     "height": 1000
    },
    "id": "Sp0obhA6Y3Oe",
    "outputId": "4940cad3-dc86-4333-b158-5da4790dd1fc"
   },
   "outputs": [],
   "source": [
    "model_loud = keras.models.load_model('drive/MyDrive/collab/segmetn1e_55_V88__6')\n",
    "\n",
    "model_loud.fit(\n",
    "    keras_generator(train_data, batch_size=8),\n",
    "    steps_per_epoch=100,\n",
    "    callbacks=best_w,\n",
    "    validation_data=keras_generator(val_data, batch_size=8),\n",
    "    validation_steps=50,\n",
    "    epochs=100\n",
    ")\n"
   ]
  },
  {
   "cell_type": "markdown",
   "metadata": {
    "id": "W95lEy3fccAo"
   },
   "source": [
    "**Разархивируем датасет для сабмита**"
   ]
  },
  {
   "cell_type": "code",
   "execution_count": null,
   "metadata": {
    "colab": {
     "base_uri": "https://localhost:8080/"
    },
    "id": "kOKhi8ezdFVK",
    "outputId": "1a7171ce-243f-4df6-af5a-19772bde05f2",
    "tags": []
   },
   "outputs": [],
   "source": [
    "!unzip drive/MyDrive/collab/test.zip -d dataset/"
   ]
  },
  {
   "cell_type": "markdown",
   "metadata": {
    "id": "UqUBvh7TpEHZ"
   },
   "source": [
    "**Функция кодирования массива в маску**"
   ]
  },
  {
   "cell_type": "code",
   "execution_count": null,
   "metadata": {
    "id": "9RJTxfgJv-wu"
   },
   "outputs": [],
   "source": [
    "def rle_encoding(x):\n",
    "    '''\n",
    "    x: numpy array of shape (height, width), 1 - mask, 0 - background\n",
    "    Returns run length as list\n",
    "    '''\n",
    "    dots = np.where(x.T.flatten()==1)[0] # .T sets Fortran order down-then-right\n",
    "    run_lengths = []\n",
    "    prev = -2\n",
    "    for b in dots:\n",
    "        if (b>prev+1): run_lengths.extend((b+1, 0))\n",
    "        run_lengths[-1] += 1\n",
    "        prev = b\n",
    "    return run_lengths\n",
    "  "
   ]
  },
  {
   "cell_type": "markdown",
   "metadata": {
    "id": "uZp8WZyLpRt-"
   },
   "source": [
    "***Функция декодирования маски в массив***"
   ]
  },
  {
   "cell_type": "code",
   "execution_count": null,
   "metadata": {
    "id": "ZA1-EedRZAFi"
   },
   "outputs": [],
   "source": [
    "def rle_decode(mask_rle, shape=(640, 480, 1)):\n",
    "    '''\n",
    "    mask_rle: run-length as string formated (start length)\n",
    "    shape: (height,width) of array to return\n",
    "    Returns numpy array, 1 - mask, 0 - background\n",
    "    '''\n",
    "    img = np.zeros(shape[0] * shape[1], dtype=np.uint8)\n",
    "\n",
    "    s = mask_rle.split()\n",
    "    starts, lengths = [np.asarray(x, dtype=int) for x in (s[0:][::2], s[1:][::2])]\n",
    "    starts -= 1\n",
    "    ends = starts + lengths\n",
    "    for lo, hi in zip(starts, ends):\n",
    "        img[lo:hi] = 1\n",
    "\n",
    "    img = img.reshape(shape)\n",
    "\n",
    "    return img\n"
   ]
  },
  {
   "cell_type": "markdown",
   "metadata": {
    "id": "qSs2eNq0pksS"
   },
   "source": [
    "**Загрузка обученной модели для сабмита**"
   ]
  },
  {
   "cell_type": "code",
   "execution_count": null,
   "metadata": {
    "id": "Dh5_Q_1FfSa-"
   },
   "outputs": [],
   "source": [
    "model_loud = keras.models.load_model('drive/MyDrive/collab/segmetn1e_55_V88__6')\n"
   ]
  },
  {
   "cell_type": "markdown",
   "metadata": {
    "id": "MVyLPoqOqRLY"
   },
   "source": [
    "**Предикт**"
   ]
  },
  {
   "cell_type": "code",
   "execution_count": null,
   "metadata": {
    "id": "i61Gu14buYzL"
   },
   "outputs": [],
   "source": [
    "data = pd.read_csv('drive/MyDrive/collab/sample_submission.csv')\n",
    "\n",
    "for x in range(5206):\n",
    "  path = data['image'][x]\n",
    "  img = load_img(f'{path}', color_mode='rgba')#, target_size=(480, 640))\n",
    "  img = img.convert('RGB')\n",
    "  img = img_to_array(img)\n",
    "  img = img * 1/255\n",
    "  img = np.expand_dims(img, axis=0)\n",
    "\n",
    "  mask = model_loud.predict(img)\n",
    "\n",
    "  mask = mask.reshape(480,640)\n",
    "  mask = np.rint(mask)\n",
    "\n",
    "  mask_rle = rle_encoding(mask)\n",
    "\n",
    "  rles.append(mask_rle)\n"
   ]
  },
  {
   "cell_type": "markdown",
   "metadata": {
    "id": "FbTNIad9D4NS"
   },
   "source": [
    "**Перевод чисел в строку и запись в файл**"
   ]
  },
  {
   "cell_type": "code",
   "execution_count": null,
   "metadata": {
    "id": "03JQAgGJCrZI"
   },
   "outputs": [],
   "source": [
    "allrles = rles\n",
    "\n",
    "\n",
    "for x in range(len(allrles)):\n",
    "  for i in range(len(allrles[x])):\n",
    "    allrles[x][i] = str(allrles[x][i])\n",
    "\n",
    "\n",
    "new_lst=[]\n",
    "new_ln = None\n",
    "\n",
    "for x in range(len(allrles)):\n",
    "  new_ln = \" \".join(allrles[x])\n",
    "  new_lst.append(new_ln)\n",
    "\n",
    "\n",
    "\n",
    "for x in range(len(allrles)):\n",
    "  data['segmentation'][x] = new_lst[x]\n",
    "\n",
    "\n",
    "data.to_csv('drive/MyDrive/collab/predict.csv', index=False)\n"
   ]
  }
 ],
 "metadata": {
  "accelerator": "GPU",
  "colab": {
   "collapsed_sections": [],
   "name": "MAIN.ipynb",
   "provenance": []
  },
  "kernelspec": {
   "display_name": "Python 3 (ipykernel)",
   "language": "python",
   "name": "python3"
  },
  "language_info": {
   "codemirror_mode": {
    "name": "ipython",
    "version": 3
   },
   "file_extension": ".py",
   "mimetype": "text/x-python",
   "name": "python",
   "nbconvert_exporter": "python",
   "pygments_lexer": "ipython3",
   "version": "3.9.2"
  }
 },
 "nbformat": 4,
 "nbformat_minor": 4
}
